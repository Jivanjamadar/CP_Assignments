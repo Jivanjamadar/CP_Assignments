{
  "nbformat": 4,
  "nbformat_minor": 0,
  "metadata": {
    "colab": {
      "provenance": [],
      "toc_visible": true
    },
    "kernelspec": {
      "name": "python3",
      "display_name": "Python 3"
    },
    "language_info": {
      "name": "python"
    }
  },
  "cells": [
    {
      "cell_type": "code",
      "execution_count": null,
      "metadata": {
        "id": "AdaH0bkB6e59"
      },
      "outputs": [],
      "source": [
        "#1)def calculate_monthly_salary(annual_salary, tax_rate):\n",
        "\n",
        "    tax_amount = annual_salary * tax_rate\n",
        "    net_income = annual_salary - tax_amount\n",
        "    monthly_salary = net_income / 12\n",
        "\n",
        "    return monthly_salary\n",
        "\n",
        "\n",
        "annual_salary = 50000\n",
        "tax_rate = 0.20        # 20%\n",
        "monthly_salary = calculate_monthly_salary(annual_salary, tax_rate)\n",
        "print(\"Monthly salary:\", monthly_salary)\n"
      ]
    },
    {
      "cell_type": "code",
      "source": [
        "#2)\n",
        "def celsius_to_fahrenheit(celsius):\n",
        "    fahrenheit = (celsius * 9/5) + 32\n",
        "    return fahrenheit\n",
        "\n",
        "def celsius_to_kelvin(celsius):\n",
        "    kelvin = celsius + 273.15\n",
        "    return kelvin\n",
        "\n",
        "celsius_temperature = 25\n",
        "fahrenheit_temperature = celsius_to_fahrenheit(celsius_temperature)\n",
        "kelvin_temperature = celsius_to_kelvin(celsius_temperature)\n",
        "\n",
        "print(\"Celsius:\", celsius_temperature)\n",
        "print(\"Fahrenheit:\", fahrenheit_temperature)\n",
        "print(\"Kelvin:\", kelvin_temperature)\n"
      ],
      "metadata": {
        "id": "yCGjNHlr6uPj"
      },
      "execution_count": null,
      "outputs": []
    },
    {
      "cell_type": "code",
      "source": [
        "#3)\n",
        "def absolute_difference(a, b):\n",
        "    return abs(a - b)\n",
        "\n",
        "num1 = 10\n",
        "num2 = 5\n",
        "diff = absolute_difference(num1, num2)\n",
        "print(\"Absolute difference between\", num1, \"and\", num2, \"is\", diff)\n"
      ],
      "metadata": {
        "id": "apnOgDUY62Mv"
      },
      "execution_count": null,
      "outputs": []
    },
    {
      "cell_type": "code",
      "source": [
        "#4)With 3rd variable\n",
        "def swap_with_temp(a, b):\n",
        "    temp = a\n",
        "    a = b\n",
        "    b = temp\n",
        "    return a, b\n",
        "num1 = 5\n",
        "num2 = 10\n",
        "num1, num2 = swap_with_temp(num1, num2)\n",
        "print(\"Swapped numbers (with temp):\", num1, num2)\n"
      ],
      "metadata": {
        "id": "D9V1clgC696j"
      },
      "execution_count": null,
      "outputs": []
    },
    {
      "cell_type": "code",
      "source": [
        "#Without 3rd variable\n",
        "def swap_without_temp(a, b):\n",
        "    a = a + b\n",
        "    b = a - b\n",
        "    a = a - b\n",
        "    return a, b\n",
        "\n",
        "\n",
        "num1 = 5\n",
        "num2 = 10\n",
        "num1, num2 = swap_without_temp(num1, num2)\n",
        "print(\"Swapped numbers (without temp):\", num1, num2)\n"
      ],
      "metadata": {
        "id": "0XxoXhbK7MH-"
      },
      "execution_count": null,
      "outputs": []
    },
    {
      "cell_type": "code",
      "source": [
        "#5)\n",
        "def find_largest(num1, num2, num3):\n",
        "    largest = num1\n",
        "    if num2 > largest:\n",
        "        largest = num2\n",
        "    if num3 > largest:\n",
        "        largest = num3\n",
        "    return largest\n",
        "\n",
        "\n",
        "num1 = 10\n",
        "num2 = 25\n",
        "num3 = 15\n",
        "largest_number = find_largest(num1, num2, num3)\n",
        "print(\"The largest number is:\", largest_number)\n"
      ],
      "metadata": {
        "id": "HyqvSU7i7VFD"
      },
      "execution_count": null,
      "outputs": []
    },
    {
      "cell_type": "code",
      "source": [
        "#6)\n",
        "def compute_absolute_value(number):\n",
        "    return abs(number)\n",
        "\n",
        "\n",
        "number = -5\n",
        "absolute_value = compute_absolute_value(number)\n",
        "print(\"The absolute value of\", number, \"is\", absolute_value)\n"
      ],
      "metadata": {
        "id": "6d5POztQ7cjN"
      },
      "execution_count": null,
      "outputs": []
    },
    {
      "cell_type": "code",
      "source": [
        "#7)\n",
        "def check_even_or_odd(number):\n",
        "    if number % 2 == 0:\n",
        "        return \"Even\"\n",
        "    else:\n",
        "        return \"Odd\"\n",
        "\n",
        "number = 10\n",
        "result = check_even_or_odd(number)\n",
        "print(\"The number\", number, \"is\", result)\n"
      ],
      "metadata": {
        "id": "gYLn4SFv7jM5"
      },
      "execution_count": null,
      "outputs": []
    },
    {
      "cell_type": "code",
      "source": [
        "#8)\n",
        "def calculate_grade(marks):\n",
        "    if marks >= 90:\n",
        "        return \"A\"\n",
        "    elif marks >= 80:\n",
        "        return \"B\"\n",
        "    elif marks >= 70:\n",
        "        return \"C\"\n",
        "    elif marks >= 60:\n",
        "        return \"D\"\n",
        "    elif marks >= 50:\n",
        "        return \"E\"\n",
        "    else:\n",
        "        return \"F\"\n",
        "marks = 85\n",
        "grade = calculate_grade(marks)\n",
        "print(\"For\", marks, \"marks, the grade is:\", grade)\n"
      ],
      "metadata": {
        "id": "TRgV5Nq37paO"
      },
      "execution_count": null,
      "outputs": []
    },
    {
      "cell_type": "code",
      "source": [
        "#9)\n",
        "class TrainBooking:\n",
        "    def __init__(self, distance, class_type):\n",
        "        self.distance = distance\n",
        "        self.class_type = class_type\n",
        "\n",
        "    def calculate_cost(self):\n",
        "        if self.class_type == \"SL\":\n",
        "            fare_per_km = 1.5\n",
        "        elif self.class_type == \"3AC\":\n",
        "            fare_per_km = 3\n",
        "        elif self.class_type == \"2AC\":\n",
        "            fare_per_km = 4.5\n",
        "        elif self.class_type == \"1AC\":\n",
        "            fare_per_km = 6\n",
        "        else:\n",
        "            return \"Invalid class type\"\n",
        "\n",
        "        total_cost = fare_per_km * self.distance\n",
        "        return total_cost\n",
        "\n",
        "\n",
        "distance = 500\n",
        "class_type = \"2AC\"\n",
        "\n",
        "booking = TrainBooking(distance, class_type)\n",
        "total_cost = booking.calculate_cost()\n",
        "print(\"Total cost of booking in\", class_type, \"for a distance of\", distance, \"km is Rs.\", total_cost)\n"
      ],
      "metadata": {
        "id": "Z0IqHyDm7v4p"
      },
      "execution_count": null,
      "outputs": []
    },
    {
      "cell_type": "code",
      "source": [
        "#10)\n",
        "def check_eligibility(age, category, experience):\n",
        "    if age < 18:\n",
        "        return \"You must be at least 18 years old to apply for this job.\"\n",
        "\n",
        "    if category == \"Category A\":\n",
        "        if experience >= 2:\n",
        "            return \"You are eligible for the job in Category A.\"\n",
        "        else:\n",
        "            return \"You do not have enough experience for the job in Category A.\"\n",
        "    elif category == \"Category B\":\n",
        "        if experience >= 3:\n",
        "            return \"You are eligible for the job in Category B.\"\n",
        "        else:\n",
        "            return \"You do not have enough experience for the job in Category B.\"\n",
        "    elif category == \"Category C\":\n",
        "        if experience >= 5:\n",
        "            return \"You are eligible for the job in Category C.\"\n",
        "        else:\n",
        "            return \"You do not have enough experience for the job in Category C.\"\n",
        "    else:\n",
        "        return \"Invalid job category.\"\n",
        "\n",
        "\n",
        "age = 20\n",
        "category = \"Category B\"\n",
        "experience = 4\n",
        "print(check_eligibility(age, category, experience))\n"
      ],
      "metadata": {
        "id": "5T1_ZeuE7_Mt"
      },
      "execution_count": null,
      "outputs": []
    },
    {
      "cell_type": "code",
      "source": [
        "#11)\n",
        "def is_triangle(a, b, c):\n",
        "    if (a + b > c) and (a + c > b) and (b + c > a):\n",
        "        return True\n",
        "    else:\n",
        "        return False\n",
        "\n",
        "\n",
        "a = 3\n",
        "b = 4\n",
        "c = 5\n",
        "if is_triangle(a, b, c):\n",
        "    print(\"The given sides can form a triangle.\")\n",
        "else:\n",
        "    print(\"The given sides cannot form a triangle.\")\n"
      ],
      "metadata": {
        "id": "8TzTZbOW8Pf6"
      },
      "execution_count": null,
      "outputs": []
    },
    {
      "cell_type": "code",
      "source": [
        "#12)\n",
        "def factorial(N):\n",
        "    if N == 0:\n",
        "        return 1\n",
        "    else:\n",
        "        return N * factorial(N - 1)\n",
        "\n",
        "\n",
        "N = 5\n",
        "result = factorial(N)\n",
        "print(\"The factorial of\", N, \"is\", result)\n"
      ],
      "metadata": {
        "id": "bRm-oe7l8gzQ"
      },
      "execution_count": null,
      "outputs": []
    },
    {
      "cell_type": "code",
      "source": [
        "#13)\n",
        "import math\n",
        "\n",
        "def is_prime(N):\n",
        "    if N <= 1:\n",
        "        return False\n",
        "    elif N == 2:\n",
        "        return True\n",
        "    elif N % 2 == 0:\n",
        "        return False\n",
        "    else:\n",
        "        sqrt_N = int(math.sqrt(N))\n",
        "        for i in range(3, sqrt_N + 1, 2):\n",
        "            if N % i == 0:\n",
        "                return False\n",
        "        return True\n",
        "\n",
        "\n",
        "N = 17\n",
        "if is_prime(N):\n",
        "    print(N, \"is a prime number.\")\n",
        "else:\n",
        "    print(N, \"is not a prime number.\")\n"
      ],
      "metadata": {
        "id": "Vuw43R1S8taq"
      },
      "execution_count": null,
      "outputs": []
    },
    {
      "cell_type": "code",
      "source": [
        "#14)\n",
        "def print_gp(a, N, r):\n",
        "    print(\"The first\", N, \"terms of the GP are:\")\n",
        "    for n in range(1, N + 1):\n",
        "        term = a * (r ** (n - 1))\n",
        "        print(term, end=\" \")\n",
        "\n",
        "\n",
        "a = 2\n",
        "N = 5\n",
        "r = 3\n",
        "\n",
        "print_gp(a, N, r)\n"
      ],
      "metadata": {
        "id": "w8RpUxy48veB"
      },
      "execution_count": null,
      "outputs": []
    },
    {
      "cell_type": "code",
      "source": [
        "#15)\n",
        "def calculate_sum(N):\n",
        "    total_sum = 0\n",
        "    for i in range(N):\n",
        "        num = float(input(\"Enter number {}: \".format(i + 1)))\n",
        "        total_sum += num\n",
        "    return total_sum\n",
        "\n",
        "N = int(input(\"Enter the value of N: \"))\n",
        "\n",
        "\n",
        "result = calculate_sum(N)\n",
        "print(\"The sum of\", N, \"numbers is:\", result)\n"
      ],
      "metadata": {
        "id": "QNNRZsQN89W-",
        "colab": {
          "base_uri": "https://localhost:8080/"
        },
        "outputId": "baf085a0-226e-47be-80d9-acc25e4def57"
      },
      "execution_count": null,
      "outputs": [
        {
          "output_type": "stream",
          "name": "stdout",
          "text": [
            "Enter the value of N: 4\n",
            "Enter number 1: 1\n",
            "Enter number 2: 2\n",
            "Enter number 3: 3\n",
            "Enter number 4: 4\n",
            "The sum of 4 numbers is: 10.0\n"
          ]
        }
      ]
    },
    {
      "cell_type": "code",
      "source": [
        "#16)\n",
        "def print_ordered_pairs(N):\n",
        "    print(\"Ordered pairs formed using the first\", N, \"numbers:\")\n",
        "    for i in range(0, N + 1):\n",
        "        for j in range(0, N + 1):\n",
        "            print(\"({}, {})\".format(i, j))\n",
        "\n",
        "N = int(input(\"Enter the value of N: \"))\n",
        "\n",
        "print_ordered_pairs(N)\n"
      ],
      "metadata": {
        "id": "CZwQPGyH9I-0",
        "colab": {
          "base_uri": "https://localhost:8080/"
        },
        "outputId": "37a2dc03-3d48-49b0-ec7e-6091d3e8b334"
      },
      "execution_count": null,
      "outputs": [
        {
          "output_type": "stream",
          "name": "stdout",
          "text": [
            "Enter the value of N: 10\n",
            "Ordered pairs formed using the first 10 numbers:\n",
            "(0, 0)\n",
            "(0, 1)\n",
            "(0, 2)\n",
            "(0, 3)\n",
            "(0, 4)\n",
            "(0, 5)\n",
            "(0, 6)\n",
            "(0, 7)\n",
            "(0, 8)\n",
            "(0, 9)\n",
            "(0, 10)\n",
            "(1, 0)\n",
            "(1, 1)\n",
            "(1, 2)\n",
            "(1, 3)\n",
            "(1, 4)\n",
            "(1, 5)\n",
            "(1, 6)\n",
            "(1, 7)\n",
            "(1, 8)\n",
            "(1, 9)\n",
            "(1, 10)\n",
            "(2, 0)\n",
            "(2, 1)\n",
            "(2, 2)\n",
            "(2, 3)\n",
            "(2, 4)\n",
            "(2, 5)\n",
            "(2, 6)\n",
            "(2, 7)\n",
            "(2, 8)\n",
            "(2, 9)\n",
            "(2, 10)\n",
            "(3, 0)\n",
            "(3, 1)\n",
            "(3, 2)\n",
            "(3, 3)\n",
            "(3, 4)\n",
            "(3, 5)\n",
            "(3, 6)\n",
            "(3, 7)\n",
            "(3, 8)\n",
            "(3, 9)\n",
            "(3, 10)\n",
            "(4, 0)\n",
            "(4, 1)\n",
            "(4, 2)\n",
            "(4, 3)\n",
            "(4, 4)\n",
            "(4, 5)\n",
            "(4, 6)\n",
            "(4, 7)\n",
            "(4, 8)\n",
            "(4, 9)\n",
            "(4, 10)\n",
            "(5, 0)\n",
            "(5, 1)\n",
            "(5, 2)\n",
            "(5, 3)\n",
            "(5, 4)\n",
            "(5, 5)\n",
            "(5, 6)\n",
            "(5, 7)\n",
            "(5, 8)\n",
            "(5, 9)\n",
            "(5, 10)\n",
            "(6, 0)\n",
            "(6, 1)\n",
            "(6, 2)\n",
            "(6, 3)\n",
            "(6, 4)\n",
            "(6, 5)\n",
            "(6, 6)\n",
            "(6, 7)\n",
            "(6, 8)\n",
            "(6, 9)\n",
            "(6, 10)\n",
            "(7, 0)\n",
            "(7, 1)\n",
            "(7, 2)\n",
            "(7, 3)\n",
            "(7, 4)\n",
            "(7, 5)\n",
            "(7, 6)\n",
            "(7, 7)\n",
            "(7, 8)\n",
            "(7, 9)\n",
            "(7, 10)\n",
            "(8, 0)\n",
            "(8, 1)\n",
            "(8, 2)\n",
            "(8, 3)\n",
            "(8, 4)\n",
            "(8, 5)\n",
            "(8, 6)\n",
            "(8, 7)\n",
            "(8, 8)\n",
            "(8, 9)\n",
            "(8, 10)\n",
            "(9, 0)\n",
            "(9, 1)\n",
            "(9, 2)\n",
            "(9, 3)\n",
            "(9, 4)\n",
            "(9, 5)\n",
            "(9, 6)\n",
            "(9, 7)\n",
            "(9, 8)\n",
            "(9, 9)\n",
            "(9, 10)\n",
            "(10, 0)\n",
            "(10, 1)\n",
            "(10, 2)\n",
            "(10, 3)\n",
            "(10, 4)\n",
            "(10, 5)\n",
            "(10, 6)\n",
            "(10, 7)\n",
            "(10, 8)\n",
            "(10, 9)\n",
            "(10, 10)\n"
          ]
        }
      ]
    },
    {
      "cell_type": "code",
      "source": [
        "#17)\n",
        "def print_square(size):\n",
        "    for i in range(size):\n",
        "        print(\"* \" * size)\n",
        "size = int(input(\"Enter the size of the square: \"))\n",
        "print_square(size)\n"
      ],
      "metadata": {
        "id": "Cpo_G1ox9Vym",
        "colab": {
          "base_uri": "https://localhost:8080/"
        },
        "outputId": "de8aa724-1e33-4665-d6ba-31606a5e5286"
      },
      "execution_count": null,
      "outputs": [
        {
          "output_type": "stream",
          "name": "stdout",
          "text": [
            "Enter the size of the square: 4\n",
            "* * * * \n",
            "* * * * \n",
            "* * * * \n",
            "* * * * \n"
          ]
        }
      ]
    },
    {
      "cell_type": "code",
      "source": [
        "#18)right triangle printing\n",
        "def print_rec(n):\n",
        "  for i in range(1,n,1):\n",
        "    print('*'*i)\n",
        "n=int(input())\n",
        "print_rec(n)"
      ],
      "metadata": {
        "colab": {
          "base_uri": "https://localhost:8080/"
        },
        "id": "-KlpEJhsacmE",
        "outputId": "8bdcb398-fc93-47b9-86e3-6d3f1edc9456"
      },
      "execution_count": null,
      "outputs": [
        {
          "output_type": "stream",
          "name": "stdout",
          "text": [
            "10\n",
            "*\n",
            "**\n",
            "***\n",
            "****\n",
            "*****\n",
            "******\n",
            "*******\n",
            "********\n",
            "*********\n"
          ]
        }
      ]
    },
    {
      "cell_type": "code",
      "source": [
        "#19)Rectangle\n",
        "def print_hollow_rectangle(row, col):\n",
        "\n",
        "    print(\"* \" * col)\n",
        "\n",
        "    for i in range(row - 2):\n",
        "        print(\"*\", end=\" \")\n",
        "        print(\"  \" * (col - 2), end=\" \")\n",
        "        print(\"*\")\n",
        "    print(\"* \" * col)\n",
        "\n",
        "row = int(input(\"Enter the number of rows: \"))\n",
        "col = int(input(\"Enter the number of columns: \"))\n",
        "\n",
        "print_hollow_rectangle(row, col)"
      ],
      "metadata": {
        "colab": {
          "base_uri": "https://localhost:8080/"
        },
        "id": "ZsCS1woNd__A",
        "outputId": "e18ec577-3a6c-469b-e859-3205af1b216f"
      },
      "execution_count": null,
      "outputs": [
        {
          "output_type": "stream",
          "name": "stdout",
          "text": [
            "Enter the number of rows: 10\n",
            "Enter the number of columns: 6\n",
            "* * * * * * \n",
            "*          *\n",
            "*          *\n",
            "*          *\n",
            "*          *\n",
            "*          *\n",
            "*          *\n",
            "*          *\n",
            "*          *\n",
            "* * * * * * \n"
          ]
        }
      ]
    },
    {
      "cell_type": "code",
      "source": [
        "#Circle\n",
        "radius = 5\n",
        "\n",
        "for y in range(-radius, radius + 1):\n",
        "    for x in range(-radius, radius + 1):\n",
        "        if x**2 + y**2 <= radius**2:\n",
        "            print('*', end='')\n",
        "        else:\n",
        "            print(' ', end='')\n",
        "    print()\n"
      ],
      "metadata": {
        "colab": {
          "base_uri": "https://localhost:8080/"
        },
        "id": "tzE9aCH-e_ev",
        "outputId": "e6585a69-922b-4458-f538-cf552746a4e6"
      },
      "execution_count": null,
      "outputs": [
        {
          "output_type": "stream",
          "name": "stdout",
          "text": [
            "     *     \n",
            "  *******  \n",
            " ********* \n",
            " ********* \n",
            " ********* \n",
            "***********\n",
            " ********* \n",
            " ********* \n",
            " ********* \n",
            "  *******  \n",
            "     *     \n"
          ]
        }
      ]
    },
    {
      "cell_type": "code",
      "source": [
        "#print(range(1,5)) -->object\n"
      ],
      "metadata": {
        "id": "FKMoFV2WjACG"
      },
      "execution_count": null,
      "outputs": []
    },
    {
      "cell_type": "code",
      "source": [
        "print(list(range(5,1)))"
      ],
      "metadata": {
        "colab": {
          "base_uri": "https://localhost:8080/"
        },
        "id": "byHonYLTgelA",
        "outputId": "855420e4-af5e-480a-fc10-aa78081eb697"
      },
      "execution_count": null,
      "outputs": [
        {
          "output_type": "stream",
          "name": "stdout",
          "text": [
            "[]\n"
          ]
        }
      ]
    },
    {
      "cell_type": "code",
      "source": [
        "n=int(input())\n",
        "print(list(range(1,n,2)))"
      ],
      "metadata": {
        "colab": {
          "base_uri": "https://localhost:8080/"
        },
        "id": "1FLP_R0ZsoeZ",
        "outputId": "5928a5b8-6e7a-4e6d-fa80-b8db0a230b4f"
      },
      "execution_count": null,
      "outputs": [
        {
          "output_type": "stream",
          "name": "stdout",
          "text": [
            "16\n",
            "[1, 3, 5, 7, 9, 11, 13, 15]\n"
          ]
        }
      ]
    },
    {
      "cell_type": "code",
      "source": [
        "#AP\n",
        "a=int(input('Enter first term'))\n",
        "d=int(input('Enter diff'))\n",
        "n=int(input('Enter no. of printing'))\n",
        "\n",
        "for i in range(n):\n",
        "  print(a+i*d)"
      ],
      "metadata": {
        "colab": {
          "base_uri": "https://localhost:8080/"
        },
        "id": "AJMra6q_tAPr",
        "outputId": "1122d642-28e5-4305-8714-6c0685a50abd"
      },
      "execution_count": null,
      "outputs": [
        {
          "output_type": "stream",
          "name": "stdout",
          "text": [
            "Enter first term1\n",
            "Enter diff2\n",
            "Enter no. of printing13\n",
            "1\n",
            "3\n",
            "5\n",
            "7\n",
            "9\n",
            "11\n",
            "13\n",
            "15\n",
            "17\n",
            "19\n",
            "21\n",
            "23\n",
            "25\n"
          ]
        }
      ]
    },
    {
      "cell_type": "code",
      "source": [
        "#GP\n",
        "a=int(input('first'))\n",
        "r=int(input('ratio'))\n",
        "n=int(input(''))\n",
        "for i in range(n):\n",
        "  print(a*(i*d))"
      ],
      "metadata": {
        "colab": {
          "base_uri": "https://localhost:8080/"
        },
        "id": "Xje0yf1UuWgV",
        "outputId": "613f0535-236a-45ee-d1e0-e1ecee378ac5"
      },
      "execution_count": null,
      "outputs": [
        {
          "output_type": "stream",
          "name": "stdout",
          "text": [
            "first1\n",
            "ratio3\n",
            "10\n",
            "0\n",
            "2\n",
            "4\n",
            "6\n",
            "8\n",
            "10\n",
            "12\n",
            "14\n",
            "16\n",
            "18\n"
          ]
        }
      ]
    },
    {
      "cell_type": "code",
      "source": [
        "a=int(input('Enter first term'))\n",
        "d=int(input('Enter diff'))\n",
        "n=int(input('Enter no. of printing'))\n",
        "\n",
        "for i in range(n):\n",
        "  print(\"1/\",(a+i*d))"
      ],
      "metadata": {
        "colab": {
          "base_uri": "https://localhost:8080/"
        },
        "id": "iyoTAs2evSB-",
        "outputId": "7258706e-6457-47f1-f208-b56adade8ead"
      },
      "execution_count": null,
      "outputs": [
        {
          "output_type": "stream",
          "name": "stdout",
          "text": [
            "Enter first term1\n",
            "Enter diff3\n",
            "Enter no. of printing16\n",
            "1/ 1\n",
            "1/ 4\n",
            "1/ 7\n",
            "1/ 10\n",
            "1/ 13\n",
            "1/ 16\n",
            "1/ 19\n",
            "1/ 22\n",
            "1/ 25\n",
            "1/ 28\n",
            "1/ 31\n",
            "1/ 34\n",
            "1/ 37\n",
            "1/ 40\n",
            "1/ 43\n",
            "1/ 46\n"
          ]
        }
      ]
    },
    {
      "cell_type": "code",
      "source": [
        "n=int(input('Enter the no.'))\n",
        "for i in range(1,n,1):\n",
        "  if n%i==0:\n",
        "    print(i)"
      ],
      "metadata": {
        "colab": {
          "base_uri": "https://localhost:8080/"
        },
        "id": "W1vAPQUcv2Xu",
        "outputId": "1a000fa6-d461-4dc1-ed2c-61f26f2c8e2d"
      },
      "execution_count": null,
      "outputs": [
        {
          "output_type": "stream",
          "name": "stdout",
          "text": [
            "Enter the no.19\n",
            "1\n"
          ]
        }
      ]
    },
    {
      "cell_type": "code",
      "source": [
        "def fact(n):\n",
        "  if(n==1):\n",
        "    return 1\n",
        "  elif n>1:\n",
        "    return n*fact(n-1)\n",
        "\n",
        "n=int(input())\n",
        "fact(n)"
      ],
      "metadata": {
        "colab": {
          "base_uri": "https://localhost:8080/"
        },
        "id": "PhUwMHPl0WE1",
        "outputId": "363da318-1a50-4492-f3f5-e37add3a8fd7"
      },
      "execution_count": null,
      "outputs": [
        {
          "name": "stdout",
          "output_type": "stream",
          "text": [
            "4\n"
          ]
        },
        {
          "output_type": "execute_result",
          "data": {
            "text/plain": [
              "24"
            ]
          },
          "metadata": {},
          "execution_count": 41
        }
      ]
    },
    {
      "cell_type": "code",
      "source": [
        "def print_kite(height):\n",
        "\n",
        "    for i in range(1, height // 2 + 2):\n",
        "        print(\" \" * (height // 2 + 1 - i) + \"*\" * (2 * i - 1))\n",
        "\n",
        "    for i in range(height // 2, 0, -1):\n",
        "        print(\" \" * (height // 2 + 1 - i) + \"*\" * (2 * i - 1))\n",
        "\n",
        "height = 9\n",
        "print_kite(height)\n",
        "\n"
      ],
      "metadata": {
        "id": "pBq1Q3rQ1CRJ",
        "colab": {
          "base_uri": "https://localhost:8080/"
        },
        "outputId": "064e599e-2659-4b04-be79-6dacfbc302a3"
      },
      "execution_count": null,
      "outputs": [
        {
          "output_type": "stream",
          "name": "stdout",
          "text": [
            "    *\n",
            "   ***\n",
            "  *****\n",
            " *******\n",
            "*********\n",
            " *******\n",
            "  *****\n",
            "   ***\n",
            "    *\n"
          ]
        }
      ]
    },
    {
      "cell_type": "code",
      "source": [
        "def print_downward_stairs(height):\n",
        "    for i in range(height, 0, -1):\n",
        "        print(\"*\" * i)\n",
        "\n",
        "height = 5\n",
        "print_downward_stairs(height)\n"
      ],
      "metadata": {
        "colab": {
          "base_uri": "https://localhost:8080/"
        },
        "id": "XYDQoSupuxqt",
        "outputId": "f3370c04-2eed-413e-8b03-0c178a6eb4f2"
      },
      "execution_count": null,
      "outputs": [
        {
          "output_type": "stream",
          "name": "stdout",
          "text": [
            "*****\n",
            "****\n",
            "***\n",
            "**\n",
            "*\n"
          ]
        }
      ]
    },
    {
      "cell_type": "code",
      "source": [
        "def print_stair(height):\n",
        "    for i in range(1, height + 1):\n",
        "        print(\"*\" * i)\n",
        "height = 5\n",
        "print_stair(height)\n",
        "\n"
      ],
      "metadata": {
        "colab": {
          "base_uri": "https://localhost:8080/"
        },
        "id": "syr8mvnyvCOe",
        "outputId": "21f844db-c117-408d-9579-be953d22e817"
      },
      "execution_count": null,
      "outputs": [
        {
          "output_type": "stream",
          "name": "stdout",
          "text": [
            "*\n",
            "**\n",
            "***\n",
            "****\n",
            "*****\n"
          ]
        }
      ]
    },
    {
      "cell_type": "code",
      "source": [
        "def print_rightward_stairs(height):\n",
        "    for i in range(1, height + 1):\n",
        "        print(\" \" * (height - i) + \"*\" * i)\n",
        "height = 5\n",
        "print_rightward_stairs(height)\n"
      ],
      "metadata": {
        "colab": {
          "base_uri": "https://localhost:8080/"
        },
        "id": "5XN5xvmRvEm7",
        "outputId": "bde8ccce-55d9-42ac-c1d6-05534e9d55ec"
      },
      "execution_count": null,
      "outputs": [
        {
          "output_type": "stream",
          "name": "stdout",
          "text": [
            "    *\n",
            "   **\n",
            "  ***\n",
            " ****\n",
            "*****\n"
          ]
        }
      ]
    },
    {
      "cell_type": "code",
      "source": [
        "def print_combined_triangles(height):\n",
        "    for i in range(1, height + 1):\n",
        "\n",
        "        print(\" \" * (height - i), end=\"\")\n",
        "        print(\"*\" * i, end=\"\")\n",
        "\n",
        "\n",
        "        if i > 1:\n",
        "            print(\"*\" * (i - 1))\n",
        "        else:\n",
        "            print()\n",
        "height = 5\n",
        "print_combined_triangles(height)\n",
        "\n"
      ],
      "metadata": {
        "colab": {
          "base_uri": "https://localhost:8080/"
        },
        "id": "SK8tcWQbvfB7",
        "outputId": "17029f90-4375-467b-ff93-cd6dbb465620"
      },
      "execution_count": null,
      "outputs": [
        {
          "output_type": "stream",
          "name": "stdout",
          "text": [
            "    *\n",
            "   ***\n",
            "  *****\n",
            " *******\n",
            "*********\n"
          ]
        }
      ]
    },
    {
      "cell_type": "code",
      "source": [
        "#40)\n",
        "import math\n",
        "\n",
        "def nearest_power_of_two(num):\n",
        "\n",
        "    num = abs(num)\n",
        "\n",
        "\n",
        "    exponent = math.log2(num)\n",
        "    rounded_exponent = round(exponent)\n",
        "    nearest_power = 2 ** rounded_exponent\n",
        "\n",
        "    return nearest_power\n",
        "number = 20\n",
        "print(nearest_power_of_two(number))\n",
        "\n"
      ],
      "metadata": {
        "colab": {
          "base_uri": "https://localhost:8080/"
        },
        "id": "8nnQzPGYvqmx",
        "outputId": "ad85cfa6-dc0d-4d12-b4d2-aaf6f98044ef"
      },
      "execution_count": null,
      "outputs": [
        {
          "output_type": "stream",
          "name": "stdout",
          "text": [
            "16\n"
          ]
        }
      ]
    },
    {
      "cell_type": "code",
      "source": [
        "#41)\n",
        "def sum_of_digits(number):\n",
        "\n",
        "    digit_sum = 0\n",
        "\n",
        "    # Loop until number becomes 0\n",
        "    while number > 0:\n",
        "\n",
        "        digit = number % 10\n",
        "\n",
        "        digit_sum += digit\n",
        "\n",
        "        r\n",
        "        number //= 10\n",
        "\n",
        "    return digit_sum\n",
        "\n",
        "print(sum_of_digits(number))\n"
      ],
      "metadata": {
        "colab": {
          "base_uri": "https://localhost:8080/"
        },
        "id": "0258VK-hwYSJ",
        "outputId": "446fefb5-6d6a-4c2d-ccb0-8573090a66c3"
      },
      "execution_count": null,
      "outputs": [
        {
          "output_type": "stream",
          "name": "stdout",
          "text": [
            "15\n"
          ]
        }
      ]
    },
    {
      "cell_type": "code",
      "source": [
        "#42)\n",
        "def decimal_to_binary(number):\n",
        "    binary_digits = []\n",
        "\n",
        "    if number == 0:\n",
        "        return \"0\"\n",
        "\n",
        "    while number > 0:\n",
        "        remainder = number % 2\n",
        "        binary_digits.append(str(remainder))\n",
        "        number //= 2\n",
        "    binary_string = ''.join(binary_digits[::-1])\n",
        "\n",
        "    return binary_string\n",
        "\n",
        "\n",
        "number = 42\n",
        "print(decimal_to_binary(number))\n",
        "\n",
        "\n"
      ],
      "metadata": {
        "id": "xiObYamnvyiO",
        "colab": {
          "base_uri": "https://localhost:8080/"
        },
        "outputId": "5675e56c-adc0-4254-fc00-4b7ac5036373"
      },
      "execution_count": null,
      "outputs": [
        {
          "output_type": "stream",
          "name": "stdout",
          "text": [
            "101010\n"
          ]
        }
      ]
    },
    {
      "cell_type": "code",
      "source": [
        "#reverse string\n",
        "def reverse_string(input_string):\n",
        "    return input_string[::-1]\n",
        "input_string = \"Hello, world!\"\n",
        "print(reverse_string(input_string))\n"
      ],
      "metadata": {
        "colab": {
          "base_uri": "https://localhost:8080/"
        },
        "id": "LnWjO2JowtJj",
        "outputId": "3bf31cc1-a86f-41c9-be86-db8638225e3c"
      },
      "execution_count": null,
      "outputs": [
        {
          "output_type": "stream",
          "name": "stdout",
          "text": [
            "!dlrow ,olleH\n"
          ]
        }
      ]
    },
    {
      "cell_type": "code",
      "source": [
        "#shift string\n",
        "def left_shift_string(string, shift):\n",
        "    shifted_string = string[shift:] + string[:shift]\n",
        "    return shifted_string\n",
        "string = \"abcdefg\"\n",
        "shift = 1\n",
        "print(left_shift_string(string, shift))\n"
      ],
      "metadata": {
        "colab": {
          "base_uri": "https://localhost:8080/"
        },
        "id": "Sw5vQ6Vkwuz2",
        "outputId": "a1e898f9-4924-4567-c871-dcdc85911a50"
      },
      "execution_count": null,
      "outputs": [
        {
          "output_type": "stream",
          "name": "stdout",
          "text": [
            "bcdefga\n"
          ]
        }
      ]
    },
    {
      "cell_type": "code",
      "source": [
        "#palindrome\n",
        "def is_palindrome(input_string):\n",
        "    input_string =input_string.lower()\n",
        "\n",
        "    reversed_string = input_string[::-1]\n",
        "    if input_string == reversed_string:\n",
        "        return True\n",
        "    else:\n",
        "        return False\n",
        "\n",
        "input_string = \"level\"\n",
        "print(is_palindrome(input_string))\n"
      ],
      "metadata": {
        "colab": {
          "base_uri": "https://localhost:8080/"
        },
        "id": "W10Gp7RRw0Wg",
        "outputId": "490625a2-727c-407b-fc9d-c45bf137aab6"
      },
      "execution_count": null,
      "outputs": [
        {
          "output_type": "stream",
          "name": "stdout",
          "text": [
            "True\n"
          ]
        }
      ]
    },
    {
      "cell_type": "code",
      "source": [
        "#46)\n",
        "def array_sum(arr):\n",
        "    total_sum = 0\n",
        "    for element in arr:\n",
        "        total_sum += element\n",
        "\n",
        "    return total_sum\n",
        "my_array = [1, 2, 3, 4, 5]\n",
        "print(array_sum(my_array))\n"
      ],
      "metadata": {
        "colab": {
          "base_uri": "https://localhost:8080/"
        },
        "id": "lJsSqcpZw6pk",
        "outputId": "b0715d81-2538-40c5-d4fd-86a4beefac1a"
      },
      "execution_count": null,
      "outputs": [
        {
          "output_type": "stream",
          "name": "stdout",
          "text": [
            "15\n"
          ]
        }
      ]
    },
    {
      "cell_type": "code",
      "source": [
        "def sum_adjacent_values(arr):\n",
        "    summed_array = []\n",
        "    for i in range(len(arr) - 1):\n",
        "        summed_array.append(arr[i] + arr[i + 1])\n",
        "\n",
        "    return summed_array\n",
        "my_array = [1, 2, 3, 4, 5]\n",
        "print(sum_adjacent_values(my_array))\n"
      ],
      "metadata": {
        "colab": {
          "base_uri": "https://localhost:8080/"
        },
        "id": "8ORKArKyxIlV",
        "outputId": "23397d15-1330-4ed5-d98e-120c822e4857"
      },
      "execution_count": null,
      "outputs": [
        {
          "output_type": "stream",
          "name": "stdout",
          "text": [
            "[3, 5, 7, 9]\n"
          ]
        }
      ]
    },
    {
      "cell_type": "code",
      "source": [
        "n=[0,1,1,2,3,5,8]\n",
        "for i in range(2,7,1):\n",
        "\n",
        "  if n[i]==n[i-1]+n[i-2]:\n",
        "    print('True')\n",
        "    break\n",
        "\n"
      ],
      "metadata": {
        "colab": {
          "base_uri": "https://localhost:8080/"
        },
        "id": "_K-_f8_Qa5u-",
        "outputId": "72c1b08d-57a7-4b57-8c65-949875bc33fa"
      },
      "execution_count": null,
      "outputs": [
        {
          "output_type": "stream",
          "name": "stdout",
          "text": [
            "True\n"
          ]
        }
      ]
    },
    {
      "cell_type": "code",
      "source": [
        "l=['abc','hello']\n",
        "l.sort()\n",
        "print(l.sort())"
      ],
      "metadata": {
        "colab": {
          "base_uri": "https://localhost:8080/"
        },
        "id": "0IlLYW0bdBep",
        "outputId": "cb6a65d7-8db8-4076-d22d-28861f005728"
      },
      "execution_count": null,
      "outputs": [
        {
          "output_type": "stream",
          "name": "stdout",
          "text": [
            "None\n"
          ]
        }
      ]
    },
    {
      "cell_type": "code",
      "source": [
        "\n",
        "\n",
        "import numpy as np\n",
        "\n",
        "\n",
        "arr = np.array([1, 2, 3, 4, 5])\n",
        "\n",
        "total_sum = np.sum(arr)\n",
        "\n",
        "print(f\"{total_sum}\")\n"
      ],
      "metadata": {
        "colab": {
          "base_uri": "https://localhost:8080/"
        },
        "id": "ejheF0FfgnEj",
        "outputId": "784758a4-a981-41bc-bcf4-8a4c95c2842a"
      },
      "execution_count": null,
      "outputs": [
        {
          "output_type": "stream",
          "name": "stdout",
          "text": [
            "The sum of all elements in the array is: 15\n"
          ]
        }
      ]
    },
    {
      "cell_type": "code",
      "source": [
        "# sum of odd indices -sum of even indices in list\n",
        "\n",
        "def sum_of_odd_minus_even_indices(lst):\n",
        "\n",
        "  odd_sum = 0\n",
        "  even_sum = 0\n",
        "  for i in range(len(lst)):\n",
        "    if i % 2 == 0:\n",
        "      even_sum += lst[i]\n",
        "    else:\n",
        "      odd_sum += lst[i]\n",
        "  return odd_sum - even_sum\n",
        "\n",
        "my_list = [1, 2, 3, 4, 5, 6, 7, 8]\n",
        "result = sum_of_odd_minus_even_indices(my_list)\n",
        "print(f\"{result}\")\n"
      ],
      "metadata": {
        "id": "_j95iQmag75o"
      },
      "execution_count": null,
      "outputs": []
    },
    {
      "cell_type": "code",
      "source": [
        "\n",
        "\n",
        "def search_string_in_array(arr, search_string):\n",
        "  for element in arr:\n",
        "    if element == search_string:\n",
        "      return True\n",
        "  return False\n",
        "\n",
        "my_array = [\"apple\", \"banana\", \"cherry\", \"mango\"]\n",
        "search_string = \"banana\"\n",
        "\n",
        "found = search_string_in_array(my_array, search_string)\n",
        "\n",
        "if found:\n",
        "  print(f\"{search_string}\")\n",
        "else:\n",
        "  print(f\"{search_string}\")\n"
      ],
      "metadata": {
        "colab": {
          "base_uri": "https://localhost:8080/"
        },
        "id": "J9Ti9KQLhSwz",
        "outputId": "698df528-c57a-49a8-f538-57bf167ea10e"
      },
      "execution_count": null,
      "outputs": [
        {
          "output_type": "stream",
          "name": "stdout",
          "text": [
            "banana\n"
          ]
        }
      ]
    },
    {
      "cell_type": "code",
      "source": [
        "x=list(map(int,input().split()))\n",
        "print(len(x))\n"
      ],
      "metadata": {
        "colab": {
          "base_uri": "https://localhost:8080/"
        },
        "id": "In1qz0ZMqxFV",
        "outputId": "335b3490-72e8-44f8-e61f-dde31da96c40"
      },
      "execution_count": null,
      "outputs": [
        {
          "output_type": "stream",
          "name": "stdout",
          "text": [
            "1 2 3 4 5 5 6 7 7\n",
            "9\n"
          ]
        }
      ]
    },
    {
      "cell_type": "code",
      "source": [
        "#Sum of two matrix\n",
        "\n",
        "def sum_of_matrices(matrix1, matrix2):\n",
        "\n",
        "\n",
        "  if len(matrix1) != len(matrix2) or len(matrix1[0]) != len(matrix2[0]):\n",
        "    raise ValueError(\"Matrices must have the same dimensions\")\n",
        "\n",
        "  sum_matrix = [[0 for _ in range(len(matrix1[0]))] for _ in range(len(matrix1))]\n",
        "  for i in range(len(matrix1)):\n",
        "    for j in range(len(matrix1[0])):\n",
        "      sum_matrix[i][j] = matrix1[i][j] + matrix2[i][j]\n",
        "\n",
        "  return sum_matrix\n",
        "\n",
        "\n",
        "matrix1 = [[1, 2, 3], [4, 5, 6]]\n",
        "matrix2 = [[7, 8, 9], [10, 11, 12]]\n",
        "\n",
        "sum_matrix = sum_of_matrices(matrix1, matrix2)\n",
        "\n",
        "print(\"Sum of the matrices:\")\n",
        "for row in sum_matrix:\n",
        "  print(row)\n"
      ],
      "metadata": {
        "colab": {
          "base_uri": "https://localhost:8080/"
        },
        "id": "-nqf6nz6303P",
        "outputId": "120d35d8-edfe-4170-b51e-40c9eabcaf66"
      },
      "execution_count": null,
      "outputs": [
        {
          "output_type": "stream",
          "name": "stdout",
          "text": [
            "Sum of the matrices:\n",
            "[8, 10, 12]\n",
            "[14, 16, 18]\n"
          ]
        }
      ]
    },
    {
      "cell_type": "code",
      "source": [
        "#Difference of two matrices\n",
        "def diff_of_matrices(matrix1, matrix2):\n",
        "\n",
        "  diff_matrix = [[0 for _ in range(len(matrix1[0]))] for _ in range(len(matrix1))]\n",
        "  for i in range(len(matrix1)):\n",
        "    for j in range(len(matrix1[0])):\n",
        "      diff_matrix[i][j] = matrix1[i][j] - matrix2[i][j]\n",
        "\n",
        "  return diff_matrix\n",
        "\n",
        "\n",
        "matrix1 = [[1, 2, 3], [4, 5, 6]]\n",
        "matrix2 = [[7, 8, 9], [10, 11, 12]]\n",
        "\n",
        "diff_matrix = diff_of_matrices(matrix1, matrix2)\n",
        "\n",
        "print(\"Difference of the matrices:\")\n",
        "for row in diff_matrix:\n",
        "  print(row)\n"
      ],
      "metadata": {
        "colab": {
          "base_uri": "https://localhost:8080/"
        },
        "id": "74CTQKsP4t6L",
        "outputId": "a7d0ccd4-46a5-434a-c25a-adfaf0adf141"
      },
      "execution_count": null,
      "outputs": [
        {
          "output_type": "stream",
          "name": "stdout",
          "text": [
            "Difference of the matrices:\n",
            "[-6, -6, -6]\n",
            "[-6, -6, -6]\n"
          ]
        }
      ]
    },
    {
      "cell_type": "code",
      "source": [
        "\n",
        "\n",
        "def union_of_matrices(mat1, mat2):\n",
        "\n",
        "  union_mat = [[0 for _ in range(len(mat1[0]))] for _ in range(len(mat1))]\n",
        "\n",
        "\n",
        "  for i in range(len(mat1)):\n",
        "    for j in range(len(mat1[0])):\n",
        "\n",
        "      if mat1[i][j] == mat2[i][j]:\n",
        "        union_mat[i][j] = 1\n",
        "\n",
        "\n",
        "  return union_mat\n",
        "\n",
        "\n",
        "mat1 = [[1, 0, 1], [0, 1, 0]]\n",
        "mat2 = [[1, 1, 0], [0, 1, 1]]\n",
        "\n",
        "union_mat   = union_of_matrices(mat1, mat2)\n",
        "\n",
        "print(\"Union of the matrices:\")\n",
        "for row in union_mat:\n",
        "  print(row)\n"
      ],
      "metadata": {
        "colab": {
          "base_uri": "https://localhost:8080/"
        },
        "id": "6h47gnhI5SfW",
        "outputId": "48816dbc-a78d-40ea-bb2a-40a11c2d88ac"
      },
      "execution_count": null,
      "outputs": [
        {
          "output_type": "stream",
          "name": "stdout",
          "text": [
            "Union of the matrices:\n",
            "[1, 0, 0]\n",
            "[1, 1, 0]\n"
          ]
        }
      ]
    },
    {
      "cell_type": "code",
      "source": [
        "def product_of_matrices(mat1, mat2):\n",
        "\n",
        "  product_mat = [[0 for _ in range(len(mat2[0]))] for _ in range(len(mat1))]\n",
        "\n",
        "  for i in range(len(mat1)):\n",
        "    for j in range(len(mat2[0])):\n",
        "      for k in range(len(mat2)):\n",
        "        product_mat[i][j] += mat1[i][k] * mat2[k][j]\n",
        "\n",
        "\n",
        "  return product_mat\n",
        "\n",
        "matrix1 = [[1, 2], [3, 4]]\n",
        "matrix2 = [[5, 6], [7, 8]]\n",
        "\n",
        "product_mat = product_of_matrices(mat1, mat2)\n",
        "\n",
        "print(\"Product of the matrices:\")\n",
        "for row in product_mat:\n",
        "  print(row)"
      ],
      "metadata": {
        "colab": {
          "base_uri": "https://localhost:8080/"
        },
        "id": "F4Yq5fFY8hp2",
        "outputId": "6b5cc4c6-ba46-4024-b3a7-285a0255f899"
      },
      "execution_count": null,
      "outputs": [
        {
          "output_type": "stream",
          "name": "stdout",
          "text": [
            "Product of the matrices:\n",
            "[1, 1, 0]\n",
            "[0, 1, 1]\n"
          ]
        }
      ]
    },
    {
      "cell_type": "code",
      "source": [
        "#Circular travesal\n",
        "def left_shift_string(string, shift):\n",
        "    shifted_string = string[shift:] + string[:shift]\n",
        "    return shifted_string\n",
        "string = \"abcdefg\"\n",
        "shift=int(input('Enter shift traversal :'))\n",
        "print(left_shift_string(string, shift))"
      ],
      "metadata": {
        "colab": {
          "base_uri": "https://localhost:8080/"
        },
        "id": "xOWxzrEj9FW5",
        "outputId": "35c945f5-6251-4e2a-82f6-6bf04de83295"
      },
      "execution_count": null,
      "outputs": [
        {
          "output_type": "stream",
          "name": "stdout",
          "text": [
            "Enter shift traversal :5\n",
            "fgabcde\n"
          ]
        }
      ]
    },
    {
      "cell_type": "code",
      "source": [
        "# Searching in array\n",
        "def search_string_in_array(arr, search_string):\n",
        "  for element in arr:\n",
        "    if element == search_string:\n",
        "      return True\n",
        "  return False\n",
        "\n",
        "my_array = [\"apple\", \"banana\", \"cherry\", \"mango\"]\n",
        "search_string = \"banana\"\n",
        "\n",
        "found = search_string_in_array(my_array, search_string)\n",
        "\n",
        "if found:\n",
        "  print(f\"{search_string}\")\n",
        "else:\n",
        "  print(f\"{search_string}\")"
      ],
      "metadata": {
        "id": "u_WZG0iRDLrH"
      },
      "execution_count": null,
      "outputs": []
    },
    {
      "cell_type": "code",
      "source": [
        "# Anagram checking of two string comparing\n",
        "x=input('Enter first string')\n",
        "y=input('Enter second string')\n",
        "x1=x.sort()\n",
        "y1=y.sort()\n",
        "flag =False\n",
        "for i in range(len(x1)):\n",
        "  for j in range(len(y1)):\n",
        "    if (x1[j]==y1[i]):\n",
        "      flag=True\n",
        "\n",
        "if flag==True:\n",
        "  print('anagram')\n"
      ],
      "metadata": {
        "colab": {
          "base_uri": "https://localhost:8080/",
          "height": 245
        },
        "id": "x-x3Ua_9D6jk",
        "outputId": "fe722961-2cc0-4321-806a-777f078b1e8c"
      },
      "execution_count": null,
      "outputs": [
        {
          "name": "stdout",
          "output_type": "stream",
          "text": [
            "Enter first stringbanana\n",
            "Enter second stringanana\n"
          ]
        },
        {
          "output_type": "error",
          "ename": "AttributeError",
          "evalue": "'str' object has no attribute 'sort'",
          "traceback": [
            "\u001b[0;31m---------------------------------------------------------------------------\u001b[0m",
            "\u001b[0;31mAttributeError\u001b[0m                            Traceback (most recent call last)",
            "\u001b[0;32m<ipython-input-33-8b24fb5dd2fb>\u001b[0m in \u001b[0;36m<cell line: 4>\u001b[0;34m()\u001b[0m\n\u001b[1;32m      2\u001b[0m \u001b[0mx\u001b[0m\u001b[0;34m=\u001b[0m\u001b[0minput\u001b[0m\u001b[0;34m(\u001b[0m\u001b[0;34m'Enter first string'\u001b[0m\u001b[0;34m)\u001b[0m\u001b[0;34m\u001b[0m\u001b[0;34m\u001b[0m\u001b[0m\n\u001b[1;32m      3\u001b[0m \u001b[0my\u001b[0m\u001b[0;34m=\u001b[0m\u001b[0minput\u001b[0m\u001b[0;34m(\u001b[0m\u001b[0;34m'Enter second string'\u001b[0m\u001b[0;34m)\u001b[0m\u001b[0;34m\u001b[0m\u001b[0;34m\u001b[0m\u001b[0m\n\u001b[0;32m----> 4\u001b[0;31m \u001b[0mx1\u001b[0m\u001b[0;34m=\u001b[0m\u001b[0mx\u001b[0m\u001b[0;34m.\u001b[0m\u001b[0msort\u001b[0m\u001b[0;34m(\u001b[0m\u001b[0;34m)\u001b[0m\u001b[0;34m\u001b[0m\u001b[0;34m\u001b[0m\u001b[0m\n\u001b[0m\u001b[1;32m      5\u001b[0m \u001b[0my1\u001b[0m\u001b[0;34m=\u001b[0m\u001b[0my\u001b[0m\u001b[0;34m.\u001b[0m\u001b[0msort\u001b[0m\u001b[0;34m(\u001b[0m\u001b[0;34m)\u001b[0m\u001b[0;34m\u001b[0m\u001b[0;34m\u001b[0m\u001b[0m\n\u001b[1;32m      6\u001b[0m \u001b[0mflag\u001b[0m \u001b[0;34m=\u001b[0m\u001b[0;32mFalse\u001b[0m\u001b[0;34m\u001b[0m\u001b[0;34m\u001b[0m\u001b[0m\n",
            "\u001b[0;31mAttributeError\u001b[0m: 'str' object has no attribute 'sort'"
          ]
        }
      ]
    },
    {
      "cell_type": "code",
      "source": [
        "#anagram\n",
        "def are_anagrams(str1, str2):\n",
        "    str1 = ''.join([char.lower() for char in str1 if char.isalnum()])\n",
        "    str2 = ''.join([char.lower() for char in str2 if char.isalnum()])\n",
        "    sorted_str1 = ''.join(sorted(str1))\n",
        "    sorted_str2 = ''.join(sorted(str2))\n",
        "    return sorted_str1 == sorted_str2\n",
        "\n",
        "# Example usage:\n",
        "string1 = \"listen\"\n",
        "string2 = \"silent\"\n",
        "if are_anagrams(string1, string2):\n",
        "    print(\"The strings are anagrams.\")\n",
        "else:\n",
        "    print(\"The strings are not anagrams.\")\n"
      ],
      "metadata": {
        "id": "dCZztnDREkt7",
        "colab": {
          "base_uri": "https://localhost:8080/"
        },
        "outputId": "0d2eb969-f957-409c-c661-8b642341bdaa"
      },
      "execution_count": null,
      "outputs": [
        {
          "output_type": "stream",
          "name": "stdout",
          "text": [
            "The strings are anagrams.\n"
          ]
        }
      ]
    },
    {
      "cell_type": "code",
      "source": [
        "def is_prime(n):\n",
        "    if n <= 1:\n",
        "        return False\n",
        "    if n <= 3:\n",
        "        return True\n",
        "    if n % 2 == 0 or n % 3 == 0:\n",
        "        return False\n",
        "    i = 5\n",
        "    while i * i <= n:\n",
        "        if n % i == 0 or n % (i + 2) == 0:\n",
        "            return False\n",
        "        i += 6\n",
        "    return True\n",
        "\n",
        "def first_n_primes(N):\n",
        "    primes = []\n",
        "    num = 2\n",
        "    while len(primes) < N:\n",
        "        if is_prime(num):\n",
        "            primes.append(num)\n",
        "        num += 1\n",
        "    return primes\n",
        "\n",
        "# Example usage:\n",
        "N = int(input(\"Enter the value of N: \"))\n",
        "prime_array = first_n_primes(N)\n",
        "print(\"First\", N, \"prime numbers:\", prime_array)\n"
      ],
      "metadata": {
        "colab": {
          "base_uri": "https://localhost:8080/"
        },
        "id": "e_-iMXM5VrsC",
        "outputId": "626c0b17-1245-41a3-e86d-57b4173ffaa1"
      },
      "execution_count": null,
      "outputs": [
        {
          "output_type": "stream",
          "name": "stdout",
          "text": [
            "Enter the value of N: 2\n",
            "First 2 prime numbers: [2, 3]\n"
          ]
        }
      ]
    },
    {
      "cell_type": "code",
      "source": [
        "def intersection(arr1, arr2):\n",
        "    return [value for value in arr1 if value in arr2]\n",
        "\n",
        "\n",
        "array1 = [1, 2, 3, 4, 5]\n",
        "array2 = [4, 5, 6, 7, 8]\n",
        "intersection_array = intersection(array1, array2)\n",
        "print(\"Intersection:\", intersection_array)\n",
        "\n"
      ],
      "metadata": {
        "colab": {
          "base_uri": "https://localhost:8080/"
        },
        "id": "3ltU7jQQV6cB",
        "outputId": "9f6f25bf-216f-4ef8-a713-82520869ef05"
      },
      "execution_count": null,
      "outputs": [
        {
          "output_type": "stream",
          "name": "stdout",
          "text": [
            "Intersection: [4, 5]\n"
          ]
        }
      ]
    },
    {
      "cell_type": "code",
      "source": [
        "def array_minus(arr1, arr2):\n",
        "    return [value for value in arr1 if value not in arr2]\n",
        "\n",
        "array1 = [1, 2, 3, 4, 5]\n",
        "array2 = [4, 5, 6, 7, 8]\n",
        "result_array = array_minus(array1, array2)\n",
        "print(\"Array minus:\", result_array)\n"
      ],
      "metadata": {
        "id": "um59n_G0WSfz",
        "outputId": "b1ab3c9c-2728-48b0-8ae4-48a08ee9dec1",
        "colab": {
          "base_uri": "https://localhost:8080/"
        }
      },
      "execution_count": null,
      "outputs": [
        {
          "output_type": "stream",
          "name": "stdout",
          "text": [
            "Array minus: [1, 2, 3]\n"
          ]
        }
      ]
    },
    {
      "cell_type": "code",
      "source": [
        "# prompt: matrix multiplication using class\n",
        "\n",
        "class Matrix:\n",
        "    def __init__(self, rows, cols, data):\n",
        "        self.rows = rows\n",
        "        self.cols = cols\n",
        "        self.data = data\n",
        "\n",
        "    def __mul__(self, other):\n",
        "        if self.cols != other.rows:\n",
        "            raise ValueError(\"Matrices cannot be multiplied\")\n",
        "\n",
        "        result = Matrix(self.rows, other.cols, [0] * (self.rows * other.cols))\n",
        "\n",
        "        for i in range(self.rows):\n",
        "            for j in range(other.cols):\n",
        "                for k in range(self.cols):\n",
        "                    result.data[i * other.cols + j] += self.data[i * self.cols + k] * other.data[k * other.cols + j]\n",
        "\n",
        "        return result\n",
        "\n",
        "# Example usage:\n",
        "matrix1 = Matrix(2, 3, [1, 2, 3, 4, 5, 6])\n",
        "matrix2 = Matrix(3, 2, [7, 8, 9, 10, 11, 12])\n",
        "\n",
        "product_matrix = matrix1 * matrix2\n",
        "\n",
        "print(\"Product of the matrices:\")\n",
        "for row in product_matrix.data:\n",
        "    print(row)\n"
      ],
      "metadata": {
        "id": "rWrCMoqGIfVN"
      },
      "execution_count": null,
      "outputs": []
    }
  ]
}